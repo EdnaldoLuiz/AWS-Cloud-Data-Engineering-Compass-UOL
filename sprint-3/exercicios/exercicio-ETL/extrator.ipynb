{
 "cells": [
  {
   "cell_type": "code",
   "execution_count": 25,
   "metadata": {},
   "outputs": [],
   "source": [
    "actors = []\n",
    "total_gross = []\n",
    "num_movies = []\n",
    "avg_per_movie = []\n",
    "top_movie = []\n",
    "top_movie_gross = []\n",
    "\n",
    "def split_line(line):\n",
    "    fields = []\n",
    "    field = ''\n",
    "    in_quotes = False\n",
    "\n",
    "    for char in line:\n",
    "        if char == '\"':\n",
    "            in_quotes = not in_quotes\n",
    "        elif char == ',' and not in_quotes:\n",
    "            fields.append(field.strip())\n",
    "            field = ''\n",
    "        else:\n",
    "            field += char\n",
    "\n",
    "    fields.append(field.strip())  \n",
    "    return fields\n",
    "\n",
    "with open('./actors.csv', 'r') as file:\n",
    "    lines = file.readlines()[1:] \n",
    "    for line in lines:\n",
    "        fields = split_line(line)\n",
    "        actors.append(fields[0])\n",
    "        total_gross.append(float(fields[1]))\n",
    "        num_movies.append(int(fields[2]))\n",
    "        avg_per_movie.append(float(fields[3]))\n",
    "        top_movie.append(fields[4])\n",
    "        top_movie_gross.append(float(fields[5]))\n",
    "\n",
    "file.close()\n",
    "\n",
    "max_num_movies = max(num_movies)\n",
    "max_num_movies_actor = actors[num_movies.index(max_num_movies)]\n",
    "\n",
    "avg_gross = sum(top_movie_gross) / len(top_movie_gross)\n",
    "\n",
    "max_avg_per_movie = max(avg_per_movie)\n",
    "max_avg_per_movie_actor = actors[avg_per_movie.index(max_avg_per_movie)]\n",
    "\n",
    "top_movie_counts = {movie: top_movie.count(movie) for movie in set(top_movie)}\n",
    "top_movie_counts_sorted = sorted(top_movie_counts.items(), key=lambda x: (-x[1], x[0]))\n",
    "\n",
    "actors_total_gross_sorted = sorted(zip(actors, total_gross), key=lambda x: -x[1])"
   ]
  },
  {
   "cell_type": "code",
   "execution_count": 26,
   "metadata": {},
   "outputs": [],
   "source": [
    "with open('./etapas/etapa-1.txt', 'w') as file:\n",
    "    file.write(f'{max_num_movies_actor} - {max_num_movies}\\n')\n"
   ]
  },
  {
   "cell_type": "code",
   "execution_count": 27,
   "metadata": {},
   "outputs": [],
   "source": [
    "with open('./etapas/etapa-2.txt', 'w') as file:\n",
    "    file.write(f'{avg_gross:.2f}\\n')"
   ]
  },
  {
   "cell_type": "code",
   "execution_count": 28,
   "metadata": {},
   "outputs": [],
   "source": [
    "with open('./etapas/etapa-3.txt', 'w') as file:\n",
    "    file.write(f'{max_avg_per_movie_actor} - {max_avg_per_movie}\\n')"
   ]
  },
  {
   "cell_type": "code",
   "execution_count": 29,
   "metadata": {},
   "outputs": [],
   "source": [
    "with open('./etapas/etapa-4.txt', 'w') as file:\n",
    "    for i, (movie, count) in enumerate(top_movie_counts_sorted, start=1):\n",
    "        file.write(f'{i} - O filme {movie} aparece {count} vez(es) no dataset\\n')"
   ]
  },
  {
   "cell_type": "code",
   "execution_count": 30,
   "metadata": {},
   "outputs": [],
   "source": [
    "with open('./etapas/etapa-5.txt', 'w') as file:\n",
    "    for actor, gross in actors_total_gross_sorted:\n",
    "        file.write(f'{actor} - {gross}\\n')"
   ]
  },
  {
   "cell_type": "code",
   "execution_count": 31,
   "metadata": {},
   "outputs": [],
   "source": [
    "file.close()"
   ]
  }
 ],
 "metadata": {
  "kernelspec": {
   "display_name": "Python 3",
   "language": "python",
   "name": "python3"
  },
  "language_info": {
   "codemirror_mode": {
    "name": "ipython",
    "version": 3
   },
   "file_extension": ".py",
   "mimetype": "text/x-python",
   "name": "python",
   "nbconvert_exporter": "python",
   "pygments_lexer": "ipython3",
   "version": "3.9.11"
  }
 },
 "nbformat": 4,
 "nbformat_minor": 2
}
